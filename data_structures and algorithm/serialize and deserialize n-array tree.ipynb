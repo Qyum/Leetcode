{
 "cells": [
  {
   "cell_type": "code",
   "execution_count": null,
   "metadata": {},
   "outputs": [],
   "source": []
  },
  {
   "cell_type": "code",
   "execution_count": 2,
   "metadata": {},
   "outputs": [
    {
     "ename": "NameError",
     "evalue": "name 'root' is not defined",
     "output_type": "error",
     "traceback": [
      "\u001b[1;31m---------------------------------------------------------------------------\u001b[0m",
      "\u001b[1;31mNameError\u001b[0m                                 Traceback (most recent call last)",
      "\u001b[1;32m<ipython-input-2-3ae9d441cff8>\u001b[0m in \u001b[0;36m<module>\u001b[1;34m\u001b[0m\n\u001b[0;32m     63\u001b[0m \u001b[1;31m# Your Codec object will be instantiated and called as such:\u001b[0m\u001b[1;33m\u001b[0m\u001b[1;33m\u001b[0m\u001b[1;33m\u001b[0m\u001b[0m\n\u001b[0;32m     64\u001b[0m \u001b[0mcodec\u001b[0m \u001b[1;33m=\u001b[0m \u001b[0mCodec\u001b[0m\u001b[1;33m(\u001b[0m\u001b[1;33m)\u001b[0m\u001b[1;33m\u001b[0m\u001b[1;33m\u001b[0m\u001b[0m\n\u001b[1;32m---> 65\u001b[1;33m \u001b[0mcodec\u001b[0m\u001b[1;33m.\u001b[0m\u001b[0mdeserialize\u001b[0m\u001b[1;33m(\u001b[0m\u001b[0mcodec\u001b[0m\u001b[1;33m.\u001b[0m\u001b[0mserialize\u001b[0m\u001b[1;33m(\u001b[0m\u001b[0mroot\u001b[0m\u001b[1;33m)\u001b[0m\u001b[1;33m)\u001b[0m\u001b[1;33m\u001b[0m\u001b[1;33m\u001b[0m\u001b[0m\n\u001b[0m",
      "\u001b[1;31mNameError\u001b[0m: name 'root' is not defined"
     ]
    }
   ],
   "source": [
    "# Definition for a Node.\n",
    "class Node(object):\n",
    "    def __init__(self, val, children):\n",
    "        self.val = val\n",
    "        self.children = children\n",
    "\n",
    "\n",
    "class Codec:\n",
    "\n",
    "    def serialize(self, root):\n",
    "        \"\"\"Encodes a tree to a single string.\n",
    "        \n",
    "        :type root: Node\n",
    "        :rtype: str\n",
    "        \"\"\"\n",
    "        def dfs(node, vals):\n",
    "            if not node:\n",
    "                return\n",
    "            vals.append(str(node.val))\n",
    "            for child in node.children:\n",
    "                dfs(child, vals)\n",
    "            vals.append(\"#\")\n",
    "        \n",
    "        vals = []\n",
    "        dfs(root, vals)\n",
    "        return \" \".join(vals)\n",
    "\n",
    "\n",
    "    def deserialize(self, data):\n",
    "        \"\"\"Decodes your encoded data to tree.\n",
    "        \n",
    "        :type data: str\n",
    "        :rtype: Node\n",
    "        \"\"\"\n",
    "        def isplit(source, sep):\n",
    "            sepsize = len(sep)\n",
    "            start = 0\n",
    "            while True:\n",
    "                idx = source.find(sep, start)\n",
    "                if idx == -1:\n",
    "                    yield source[start:]\n",
    "                    return\n",
    "                yield source[start:idx]\n",
    "                start = idx + sepsize\n",
    "                \n",
    "        def dfs(vals):\n",
    "            val = next(vals)\n",
    "            if val == \"#\":\n",
    "                return None\n",
    "            root = Node(int(val), [])\n",
    "            child = dfs(vals)\n",
    "            while child:\n",
    "                root.children.append(child)\n",
    "                child = dfs(vals)\n",
    "            return root\n",
    "\n",
    "        if not data:\n",
    "            return None\n",
    "    \n",
    "        return dfs(iter(isplit(data, ' ')))\n",
    "        \n",
    "\n",
    "# Your Codec object will be instantiated and called as such:\n",
    "codec = Codec()\n",
    "codec.deserialize(codec.serialize(root))"
   ]
  },
  {
   "cell_type": "code",
   "execution_count": null,
   "metadata": {},
   "outputs": [],
   "source": []
  }
 ],
 "metadata": {
  "kernelspec": {
   "display_name": "Python 3",
   "language": "python",
   "name": "python3"
  },
  "language_info": {
   "codemirror_mode": {
    "name": "ipython",
    "version": 3
   },
   "file_extension": ".py",
   "mimetype": "text/x-python",
   "name": "python",
   "nbconvert_exporter": "python",
   "pygments_lexer": "ipython3",
   "version": "3.7.4"
  }
 },
 "nbformat": 4,
 "nbformat_minor": 2
}

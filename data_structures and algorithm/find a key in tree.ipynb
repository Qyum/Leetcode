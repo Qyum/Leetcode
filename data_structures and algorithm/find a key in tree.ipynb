{
 "cells": [
  {
   "cell_type": "code",
   "execution_count": null,
   "metadata": {},
   "outputs": [],
   "source": [
    "def searchkey(root,key):\n",
    "    if root is None:\n",
    "        return root\n",
    "    if root.val==key:\n",
    "        return root\n",
    "    if root.val<key:\n",
    "        return searchkey(root.right,key)\n",
    "    \n",
    "    return searchkey(root.left,key)"
   ]
  }
 ],
 "metadata": {
  "kernelspec": {
   "display_name": "Python 3",
   "language": "python",
   "name": "python3"
  },
  "language_info": {
   "codemirror_mode": {
    "name": "ipython",
    "version": 3
   },
   "file_extension": ".py",
   "mimetype": "text/x-python",
   "name": "python",
   "nbconvert_exporter": "python",
   "pygments_lexer": "ipython3",
   "version": "3.7.4"
  }
 },
 "nbformat": 4,
 "nbformat_minor": 2
}

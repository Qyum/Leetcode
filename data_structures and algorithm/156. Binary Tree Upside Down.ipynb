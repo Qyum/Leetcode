{
 "cells": [
  {
   "cell_type": "code",
   "execution_count": null,
   "metadata": {},
   "outputs": [],
   "source": []
  },
  {
   "cell_type": "code",
   "execution_count": 22,
   "metadata": {},
   "outputs": [
    {
     "data": {
      "text/plain": [
       "<__main__.Node at 0x27f651dfbc8>"
      ]
     },
     "execution_count": 22,
     "metadata": {},
     "output_type": "execute_result"
    }
   ],
   "source": [
    "class Node:\n",
    "    \n",
    "    def __init__(self,key):\n",
    "        self.data=key\n",
    "        self.left=None\n",
    "        self.right=None\n",
    "        \n",
    "    def upsideDownBinaryTree(root):\n",
    "\n",
    "        if root is None or root.left is None:\n",
    "            return root\n",
    "\n",
    "        newHead =upsideDownBinaryTree(root.left)\n",
    "        print(newhead)\n",
    "        root.left.left = root.right\n",
    "        root.left.right = root\n",
    "        root.left = None\n",
    "        root.right = None\n",
    "\n",
    "        return newHead\n",
    "\n",
    "\n",
    "#if __name__=='__main__':\n",
    "root = Node(1)\n",
    "root.left=Node(2)\n",
    "root.right=Node(3)\n",
    "root.left.left=Node(4)\n",
    "root.left.right=Node(5)\n",
    "upsideDownBinaryTree(root)   \n"
   ]
  },
  {
   "cell_type": "code",
   "execution_count": null,
   "metadata": {},
   "outputs": [],
   "source": []
  }
 ],
 "metadata": {
  "kernelspec": {
   "display_name": "Python 3",
   "language": "python",
   "name": "python3"
  },
  "language_info": {
   "codemirror_mode": {
    "name": "ipython",
    "version": 3
   },
   "file_extension": ".py",
   "mimetype": "text/x-python",
   "name": "python",
   "nbconvert_exporter": "python",
   "pygments_lexer": "ipython3",
   "version": "3.7.4"
  }
 },
 "nbformat": 4,
 "nbformat_minor": 2
}
